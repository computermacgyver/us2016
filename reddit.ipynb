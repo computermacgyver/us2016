{
 "cells": [
  {
   "cell_type": "code",
   "execution_count": 2,
   "metadata": {
    "collapsed": true
   },
   "outputs": [],
   "source": [
    "import pandas as pd\n",
    "import matplotlib.pyplot as plt"
   ]
  },
  {
   "cell_type": "code",
   "execution_count": 6,
   "metadata": {
    "collapsed": false
   },
   "outputs": [
    {
     "name": "stdout",
     "output_type": "stream",
     "text": [
      "(5072, 123)\n",
      "['query_id', 'query_name', 'date', 'title', 'snippet', 'url', 'domain', 'sentiment', 'page_type', 'language', 'country_code', 'continent_code', 'continent', 'country', 'state_code', 'county_code', 'city_code', 'notes', 'account_type', 'assignment', 'author', 'author_city', 'author_city_code', 'author_continent', 'author_continent_code', 'author_country', 'author_country_code', 'author_county', 'author_county_code', 'author_location', 'author_state', 'author_state_code', 'avatar', 'average_pages_per_visitor', 'average_visits_per_visitor', 'backlinks', 'blog_comments', 'candidates_-_donald_trump', 'candidates_-_hillary_clinton', 'category_details', 'checked', 'city', 'content_-_rts', 'county', 'display_urls', 'engagement_score', 'expanded_urls', 'facebook_author_id', 'facebook_comments', 'facebook_likes', 'facebook_role', 'facebook_shares', 'facebook_subtype', 'forum_posts', 'forum_views', 'full_name', 'gender', 'impact', 'impressions', 'instagram_comments', 'instagram_followers', 'instagram_following', 'instagram_likes', 'instagram_posts', 'interest', 'kred_influence', 'kred_outreach', 'last_assignment_date', 'latitude', 'location_name', 'longitude', 'media_urls', 'mentioned_tweeters', 'minutes_per_visitor', 'percentage_female', 'percentage_male', 'policy_issues_-_climate_change', 'policy_issues_-_debt_reduction', 'policy_issues_-_economy', 'policy_issues_-_energy', 'policy_issues_-_foreign_policy', 'policy_issues_-_gay_marriage', 'policy_issues_-_gun_control', 'policy_issues_-_heathcare', 'policy_issues_-_immigration', 'policy_issues_-_income_inequality', 'policy_issues_-_marijuana', 'policy_issues_-_political_contributions', 'policy_issues_-_reproductive_rights', 'policy_issues_-_taxes', 'priority', 'pro_candidate_hashtags_-_pro_clinton', 'pro_candidate_hashtags_-_pro_trump', 'professions', 'reach', 'resource_id', 'short_urls', 'starred', 'state', 'status', 'subtype', 'tags', 'thread_author', 'thread_created_date', 'thread_entry_type', 'thread_id', 'thread_url', 'total_monthly_visitors', 'tracked_link_clicks', 'tracked_links', 'twitter_author_id', 'twitter_channel_role', 'twitter_followers', 'twitter_following', 'twitter_hashtags', 'twitter_reply_count', 'twitter_reply_to', 'twitter_retweet_of', 'twitter_retweets', 'twitter_tweets', 'twitter_verified', 'word_count', 'mozrank_score']\n",
      "0    i am preparing myself to be crushingly let dow...\n",
      "1    &gt;No, Islam requires removal of pubes. Or ma...\n",
      "2                                For women? Praise be.\n",
      "3                   this guy better fucking deliver it\n",
      "4                 No, Islam requires removal of pubes.\n",
      "Name: snippet, dtype: object\n"
     ]
    }
   ],
   "source": [
    "dfReddit = pd.read_csv(\"Donald Trump Subreddit.csv\",skiprows=5, encoding=\"ISO-8859-15\")\n",
    "\n",
    "dfReddit.columns = [c.replace(' ', '_').lower() for c in dfReddit.columns]\n",
    "\n",
    "\n",
    "print(dfReddit.shape)\n",
    "print(list(dfReddit))\n",
    "print(dfReddit[\"snippet\"].head())"
   ]
  }
 ],
 "metadata": {
  "kernelspec": {
   "display_name": "Python 3",
   "language": "python",
   "name": "python3"
  },
  "language_info": {
   "codemirror_mode": {
    "name": "ipython",
    "version": 3
   },
   "file_extension": ".py",
   "mimetype": "text/x-python",
   "name": "python",
   "nbconvert_exporter": "python",
   "pygments_lexer": "ipython3",
   "version": "3.5.2+"
  }
 },
 "nbformat": 4,
 "nbformat_minor": 1
}
